{
 "cells": [
  {
   "cell_type": "code",
   "execution_count": null,
   "metadata": {},
   "outputs": [],
   "source": [
    "from EvolutionSimulator import EvolutionSimulator\n",
    "from IPython.display import clear_output\n",
    "from PIL import Image\n",
    "\n",
    "classes = ['abstract_images', 'daisy', 'dandelion', 'non_abstract_images', 'rose', 'sunflower', 'tulip']\n",
    "sims = []\n",
    "images = []\n",
    "\n",
    "for i in range(len(classes)):\n",
    "    sims.append(EvolutionSimulator(1, i))\n",
    "    images.append(sims[i].get_first_image())\n",
    "generation_number = 0\n",
    "while True:\n",
    "    #clear_output(wait=True)\n",
    "    if generation_number % 20 == 0:\n",
    "        print(\"Generation \" + str(generation_number) + \" :\" )\n",
    "        for j in range(len(images)):\n",
    "            print(classes[j] + \":\")\n",
    "            display(images[j])\n",
    "\n",
    "\n",
    "    for i in range(len(classes)):\n",
    "        sims[i].advance_generation()\n",
    "        images[i] = sims[i].get_first_image()\n",
    "    generation_number+=1\n",
    "\n",
    "\n",
    "    \n",
    "\n"
   ]
  },
  {
   "cell_type": "code",
   "execution_count": null,
   "metadata": {},
   "outputs": [],
   "source": [
    "from EvolutionSimulator import EvolutionSimulator\n",
    "from IPython.display import clear_output\n",
    "from PIL import Image\n",
    "\n",
    "classes = ['abstract_images', 'daisy', 'dandelion', 'non_abstract_images', 'rose', 'sunflower', 'tulip']\n",
    "sims = []\n",
    "images = []\n",
    "class_index = 4\n",
    "\n",
    "sim = EvolutionSimulator(1,class_index)\n",
    "generation_number = 0\n",
    "while True:\n",
    "    #clear_output(wait=True)\n",
    "    if generation_number % 50 == 0:\n",
    "        print(\"Generation \" + str(generation_number) + \" :\" )\n",
    "        sim.show_first_image()\n",
    "    sim.advance_generation()\n",
    "    generation_number+=1\n",
    "\n",
    "\n",
    "    \n",
    "\n"
   ]
  }
 ],
 "metadata": {
  "kernelspec": {
   "display_name": "env",
   "language": "python",
   "name": "python3"
  },
  "language_info": {
   "codemirror_mode": {
    "name": "ipython",
    "version": 3
   },
   "file_extension": ".py",
   "mimetype": "text/x-python",
   "name": "python",
   "nbconvert_exporter": "python",
   "pygments_lexer": "ipython3",
   "version": "3.10.7"
  },
  "orig_nbformat": 4,
  "vscode": {
   "interpreter": {
    "hash": "f1059229a01fe200ff704ee3c3c4ee8e8083d36ce134c1c565f85cc1e2702250"
   }
  }
 },
 "nbformat": 4,
 "nbformat_minor": 2
}
