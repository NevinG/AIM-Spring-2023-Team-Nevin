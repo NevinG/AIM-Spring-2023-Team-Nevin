{
 "cells": [
  {
   "cell_type": "code",
   "execution_count": 1,
   "metadata": {},
   "outputs": [
    {
     "ename": "KeyboardInterrupt",
     "evalue": "",
     "output_type": "error",
     "traceback": [
      "\u001b[1;31m---------------------------------------------------------------------------\u001b[0m",
      "\u001b[1;31mKeyboardInterrupt\u001b[0m                         Traceback (most recent call last)",
      "Cell \u001b[1;32mIn[1], line 12\u001b[0m\n\u001b[0;32m     10\u001b[0m \u001b[39mfor\u001b[39;00m i \u001b[39min\u001b[39;00m \u001b[39mrange\u001b[39m(\u001b[39m1000\u001b[39m):\n\u001b[0;32m     11\u001b[0m     clear_output(wait\u001b[39m=\u001b[39m\u001b[39mTrue\u001b[39;00m)\n\u001b[1;32m---> 12\u001b[0m     sim\u001b[39m.\u001b[39;49madvance_generation()\n\u001b[0;32m     13\u001b[0m     \u001b[39mprint\u001b[39m(\u001b[39m\"\u001b[39m\u001b[39mGeneration \u001b[39m\u001b[39m\"\u001b[39m \u001b[39m+\u001b[39m \u001b[39mstr\u001b[39m(i\u001b[39m+\u001b[39m\u001b[39m1\u001b[39m) \u001b[39m+\u001b[39m \u001b[39m\"\u001b[39m\u001b[39m :\u001b[39m\u001b[39m\"\u001b[39m )\n\u001b[0;32m     14\u001b[0m     sim\u001b[39m.\u001b[39mshow_first_image()\n",
      "File \u001b[1;32md:\\Projects\\Full Projects\\AIM-Spring-2023-Team-Nevin\\Nevin\\EvolutionSimulator.py:39\u001b[0m, in \u001b[0;36mEvolutionSimulator.advance_generation\u001b[1;34m(self)\u001b[0m\n\u001b[0;32m     37\u001b[0m newIndivual \u001b[39m=\u001b[39m copy\u001b[39m.\u001b[39mdeepcopy(\u001b[39mself\u001b[39m\u001b[39m.\u001b[39mpopulation[\u001b[39m0\u001b[39m])\n\u001b[0;32m     38\u001b[0m newIndivual\u001b[39m.\u001b[39mmutate()\n\u001b[1;32m---> 39\u001b[0m \u001b[39mself\u001b[39;49m\u001b[39m.\u001b[39;49mfitness2(newIndivual)\n\u001b[0;32m     40\u001b[0m \u001b[39mif\u001b[39;00m newIndivual\u001b[39m.\u001b[39mfitness \u001b[39m>\u001b[39m \u001b[39mself\u001b[39m\u001b[39m.\u001b[39mpopulation[\u001b[39m0\u001b[39m]\u001b[39m.\u001b[39mfitness:\n\u001b[0;32m     41\u001b[0m     \u001b[39mself\u001b[39m\u001b[39m.\u001b[39mpopulation[\u001b[39m0\u001b[39m] \u001b[39m=\u001b[39m newIndivual\n",
      "File \u001b[1;32md:\\Projects\\Full Projects\\AIM-Spring-2023-Team-Nevin\\Nevin\\EvolutionSimulator.py:93\u001b[0m, in \u001b[0;36mEvolutionSimulator.fitness2\u001b[1;34m(self, individual)\u001b[0m\n\u001b[0;32m     92\u001b[0m \u001b[39mdef\u001b[39;00m \u001b[39mfitness2\u001b[39m(\u001b[39mself\u001b[39m, individual):\n\u001b[1;32m---> 93\u001b[0m     hash0 \u001b[39m=\u001b[39m imagehash\u001b[39m.\u001b[39;49maverage_hash(individual\u001b[39m.\u001b[39;49mgenerate_image())\n\u001b[0;32m     94\u001b[0m     hash1 \u001b[39m=\u001b[39m imagehash\u001b[39m.\u001b[39maverage_hash(\u001b[39mself\u001b[39m\u001b[39m.\u001b[39mtarget_image) \n\u001b[0;32m     95\u001b[0m     individual\u001b[39m.\u001b[39mfitness \u001b[39m=\u001b[39m \u001b[39m-\u001b[39m\u001b[39m1\u001b[39m \u001b[39m*\u001b[39m \u001b[39mabs\u001b[39m(hash0 \u001b[39m-\u001b[39m hash1)\n",
      "File \u001b[1;32md:\\Projects\\Full Projects\\AIM-Spring-2023-Team-Nevin\\env\\lib\\site-packages\\imagehash\\__init__.py:248\u001b[0m, in \u001b[0;36maverage_hash\u001b[1;34m(image, hash_size, mean)\u001b[0m\n\u001b[0;32m    245\u001b[0m \t\u001b[39mraise\u001b[39;00m \u001b[39mValueError\u001b[39;00m(\u001b[39m'\u001b[39m\u001b[39mHash size must be greater than or equal to 2\u001b[39m\u001b[39m'\u001b[39m)\n\u001b[0;32m    247\u001b[0m \u001b[39m# reduce size and complexity, then covert to grayscale\u001b[39;00m\n\u001b[1;32m--> 248\u001b[0m image \u001b[39m=\u001b[39m image\u001b[39m.\u001b[39;49mconvert(\u001b[39m'\u001b[39;49m\u001b[39mL\u001b[39;49m\u001b[39m'\u001b[39;49m)\u001b[39m.\u001b[39;49mresize((hash_size, hash_size), ANTIALIAS)\n\u001b[0;32m    250\u001b[0m \u001b[39m# find average pixel value; 'pixels' is an array of the pixel values, ranging from 0 (black) to 255 (white)\u001b[39;00m\n\u001b[0;32m    251\u001b[0m pixels \u001b[39m=\u001b[39m numpy\u001b[39m.\u001b[39masarray(image)\n",
      "File \u001b[1;32md:\\Projects\\Full Projects\\AIM-Spring-2023-Team-Nevin\\env\\lib\\site-packages\\PIL\\Image.py:2192\u001b[0m, in \u001b[0;36mImage.resize\u001b[1;34m(self, size, resample, box, reducing_gap)\u001b[0m\n\u001b[0;32m   2184\u001b[0m             \u001b[39mself\u001b[39m \u001b[39m=\u001b[39m Image\u001b[39m.\u001b[39mreduce(\u001b[39mself\u001b[39m, factor, box\u001b[39m=\u001b[39mreduce_box)\n\u001b[0;32m   2185\u001b[0m         box \u001b[39m=\u001b[39m (\n\u001b[0;32m   2186\u001b[0m             (box[\u001b[39m0\u001b[39m] \u001b[39m-\u001b[39m reduce_box[\u001b[39m0\u001b[39m]) \u001b[39m/\u001b[39m factor_x,\n\u001b[0;32m   2187\u001b[0m             (box[\u001b[39m1\u001b[39m] \u001b[39m-\u001b[39m reduce_box[\u001b[39m1\u001b[39m]) \u001b[39m/\u001b[39m factor_y,\n\u001b[0;32m   2188\u001b[0m             (box[\u001b[39m2\u001b[39m] \u001b[39m-\u001b[39m reduce_box[\u001b[39m0\u001b[39m]) \u001b[39m/\u001b[39m factor_x,\n\u001b[0;32m   2189\u001b[0m             (box[\u001b[39m3\u001b[39m] \u001b[39m-\u001b[39m reduce_box[\u001b[39m1\u001b[39m]) \u001b[39m/\u001b[39m factor_y,\n\u001b[0;32m   2190\u001b[0m         )\n\u001b[1;32m-> 2192\u001b[0m \u001b[39mreturn\u001b[39;00m \u001b[39mself\u001b[39m\u001b[39m.\u001b[39m_new(\u001b[39mself\u001b[39;49m\u001b[39m.\u001b[39;49mim\u001b[39m.\u001b[39;49mresize(size, resample, box))\n",
      "\u001b[1;31mKeyboardInterrupt\u001b[0m: "
     ]
    }
   ],
   "source": [
    "from EvolutionSimulator import EvolutionSimulator\n",
    "from IPython.display import clear_output\n",
    "from PIL import Image\n",
    "\n",
    "sim = EvolutionSimulator(1)\n",
    "image = Image.open('./dataset/abstract_images/abstract_image21.jpg')\n",
    "sim.set_fitness_target_image(image)\n",
    "print(\"Generation 0:\")\n",
    "sim.show_first_image()\n",
    "for i in range(1000):\n",
    "    clear_output(wait=True)\n",
    "    sim.advance_generation()\n",
    "    print(\"Generation \" + str(i+1) + \" :\" )\n",
    "    sim.show_first_image()\n",
    "\n",
    "\n",
    "    \n",
    "\n"
   ]
  },
  {
   "cell_type": "code",
   "execution_count": 1,
   "metadata": {},
   "outputs": [
    {
     "name": "stdout",
     "output_type": "stream",
     "text": [
      "-28\n"
     ]
    }
   ],
   "source": [
    "from EvolutionSimulator import EvolutionSimulator\n",
    "from IPython.display import clear_output\n",
    "from PIL import Image\n",
    "image = Image.open('C:/Users/Nevin/Downloads/archive/Abstract_gallery/Abstract_gallery/Abstract_image_' + str(0) + '.jpg')\n",
    "sim = EvolutionSimulator(1)\n",
    "sim.set_fitness_target_image(image)\n",
    "sim.fitness2(sim.population[0])"
   ]
  }
 ],
 "metadata": {
  "kernelspec": {
   "display_name": "env",
   "language": "python",
   "name": "python3"
  },
  "language_info": {
   "codemirror_mode": {
    "name": "ipython",
    "version": 3
   },
   "file_extension": ".py",
   "mimetype": "text/x-python",
   "name": "python",
   "nbconvert_exporter": "python",
   "pygments_lexer": "ipython3",
   "version": "3.10.7"
  },
  "orig_nbformat": 4,
  "vscode": {
   "interpreter": {
    "hash": "f1059229a01fe200ff704ee3c3c4ee8e8083d36ce134c1c565f85cc1e2702250"
   }
  }
 },
 "nbformat": 4,
 "nbformat_minor": 2
}
