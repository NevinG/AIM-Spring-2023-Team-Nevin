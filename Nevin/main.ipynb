{
 "cells": [
  {
   "cell_type": "code",
   "execution_count": null,
   "metadata": {},
   "outputs": [],
   "source": [
    "from EvolutionSimulator import EvolutionSimulator\n",
    "\n",
    "sim = EvolutionSimulator()\n",
    "print(\"Generation 0:\")\n",
    "sim.show_images()\n",
    "for i in range(100):\n",
    "    sim.evaluate_fitness()\n",
    "    sim.kill_population()\n",
    "    sim.reproduce()\n",
    "print(\"Generation 100:\")\n",
    "sim.show_images()\n",
    "    \n",
    "\n"
   ]
  }
 ],
 "metadata": {
  "kernelspec": {
   "display_name": "env",
   "language": "python",
   "name": "python3"
  },
  "language_info": {
   "codemirror_mode": {
    "name": "ipython",
    "version": 3
   },
   "file_extension": ".py",
   "mimetype": "text/x-python",
   "name": "python",
   "nbconvert_exporter": "python",
   "pygments_lexer": "ipython3",
   "version": "3.10.7"
  },
  "orig_nbformat": 4,
  "vscode": {
   "interpreter": {
    "hash": "f1059229a01fe200ff704ee3c3c4ee8e8083d36ce134c1c565f85cc1e2702250"
   }
  }
 },
 "nbformat": 4,
 "nbformat_minor": 2
}
