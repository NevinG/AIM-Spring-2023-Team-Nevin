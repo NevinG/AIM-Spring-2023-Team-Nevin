{
 "cells": [
  {
   "cell_type": "code",
   "execution_count": null,
   "metadata": {},
   "outputs": [],
   "source": [
    "from PIL import Image\n",
    "#2872 images\n",
    "for i in range(2872):\n",
    "    image = Image.open('C:/Users/Nevin/Downloads/archive/Abstract_gallery/Abstract_gallery/Abstract_image_' + str(i) + '.jpg')\n",
    "    image= image.resize((100,100))\n",
    "    image = image.convert(\"L\")\n",
    "    image.save('./dataset/abstract_images/abstract_image' + str(i) + '.jpg')"
   ]
  },
  {
   "cell_type": "code",
   "execution_count": 1,
   "metadata": {},
   "outputs": [],
   "source": [
    "from EvolutionSimulator import EvolutionSimulator\n",
    "sim = EvolutionSimulator()\n",
    "images = []\n",
    "image_index = 0\n",
    "for i in range(60):\n",
    "    sim.evaluate_fitness()\n",
    "    sim.kill_population()\n",
    "    sim.reproduce()\n",
    "    if i % 10 == 0:\n",
    "        #add all images to non_abstract_images\n",
    "        images = sim.get_images()\n",
    "        for image in images:\n",
    "            image.save('./dataset/non_abstract_images/non_abstract_image' + str(image_index) + '.jpg')\n",
    "            image_index+=1\n"
   ]
  },
  {
   "cell_type": "code",
   "execution_count": 1,
   "metadata": {},
   "outputs": [],
   "source": [
    "from EvolutionSimulator import EvolutionSimulator\n",
    "sim = EvolutionSimulator(1)\n",
    "images = sim.get_images()\n",
    "image_index = 3200\n",
    "for image in images:\n",
    "    image.save('./dataset/non_abstract_images/non_abstract_image' + str(image_index) + '.jpg')\n",
    "    image_index+=1"
   ]
  }
 ],
 "metadata": {
  "kernelspec": {
   "display_name": "env",
   "language": "python",
   "name": "python3"
  },
  "language_info": {
   "codemirror_mode": {
    "name": "ipython",
    "version": 3
   },
   "file_extension": ".py",
   "mimetype": "text/x-python",
   "name": "python",
   "nbconvert_exporter": "python",
   "pygments_lexer": "ipython3",
   "version": "3.10.7"
  },
  "orig_nbformat": 4
 },
 "nbformat": 4,
 "nbformat_minor": 2
}
