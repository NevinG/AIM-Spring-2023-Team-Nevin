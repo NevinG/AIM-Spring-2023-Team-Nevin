{
 "cells": [
  {
   "cell_type": "code",
   "execution_count": 5,
   "metadata": {},
   "outputs": [],
   "source": [
    "from PIL import Image\n",
    "#2872 images\n",
    "for i in range(2872):\n",
    "    image = Image.open('C:/Users/Nevin/Downloads/archive/Abstract_gallery/Abstract_gallery/Abstract_image_' + str(i) + '.jpg')\n",
    "    image= image.resize((100,100))\n",
    "    image.save('./dataset2/abstract_images/abstract_image' + str(i) + '.jpg')"
   ]
  },
  {
   "cell_type": "code",
   "execution_count": 6,
   "metadata": {},
   "outputs": [],
   "source": [
    "from EvolutionSimulator import EvolutionSimulator\n",
    "sim = EvolutionSimulator(500)\n",
    "images = []\n",
    "image_index = 0\n",
    "for i in range(1):\n",
    "    #add all images to non_abstract_images\n",
    "    images = sim.get_images()\n",
    "    for image in images:\n",
    "        image.save('./dataset2/non_abstract_images/non_abstract_image' + str(image_index) + '.jpg')\n",
    "        image_index+=1\n"
   ]
  },
  {
   "cell_type": "code",
   "execution_count": 11,
   "metadata": {},
   "outputs": [],
   "source": [
    "from PIL import Image\n",
    "import os\n",
    "#2872 images\n",
    "flowers = ['daisy', 'dandelion', 'rose', 'sunflower', 'tulip']\n",
    "for flower in flowers:\n",
    "    i = 0\n",
    "    for filename in os.listdir('C:/Users/Nevin/Downloads/flowers_dataset/flowers/' + flower):\n",
    "        image = Image.open('C:/Users/Nevin/Downloads/flowers_dataset/flowers/' + flower + '/' + filename)\n",
    "        image= image.resize((100,100))\n",
    "        image.save('./dataset2/' + flower + '/' + flower + str(i) + '.jpg')\n",
    "        i+=1\n",
    "        "
   ]
  }
 ],
 "metadata": {
  "kernelspec": {
   "display_name": "env",
   "language": "python",
   "name": "python3"
  },
  "language_info": {
   "codemirror_mode": {
    "name": "ipython",
    "version": 3
   },
   "file_extension": ".py",
   "mimetype": "text/x-python",
   "name": "python",
   "nbconvert_exporter": "python",
   "pygments_lexer": "ipython3",
   "version": "3.10.7"
  },
  "orig_nbformat": 4
 },
 "nbformat": 4,
 "nbformat_minor": 2
}
